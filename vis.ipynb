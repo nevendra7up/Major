{
 "cells": [
  {
   "cell_type": "code",
   "execution_count": 154,
   "metadata": {},
   "outputs": [
    {
     "name": "stdout",
     "output_type": "stream",
     "text": [
      "url=> https://www.alphavantage.co/query?function=TIME_SERIES_WEEKLY&symbol=TSLA&interval=60min&apikey=IITYZ49L2LBBLXKG\n"
     ]
    }
   ],
   "source": [
    "import requests\n",
    "\n",
    "# replace the \"demo\" apikey below with your own key from https://www.alphavantage.co/support/#api-key\n",
    "apikey = 'IITYZ49L2LBBLXKG'\n",
    "stock_name = 'TSLA'\n",
    "interval = '60min'\n",
    "func = 'TIME_SERIES_WEEKLY'\n",
    "url = f'https://www.alphavantage.co/query?function={func}&symbol={stock_name}&interval={interval}&apikey={apikey}'\n",
    "#url = f'https://www.alphavantage.co/query?function=TIME_SERIES_WEEKLY_ADJUSTED&symbol={stock_name}&apikey={apikey}'\n",
    "print('url=>',url)\n",
    "r = requests.get(url)\n",
    "if r.status_code == 200:\n",
    "    data = r.json()\n",
    "else:\n",
    "    print(r.status_code)\n",
    "    print('there was a problem')"
   ]
  },
  {
   "cell_type": "code",
   "execution_count": 148,
   "metadata": {},
   "outputs": [],
   "source": [
    "import pandas as pd"
   ]
  },
  {
   "cell_type": "code",
   "execution_count": 158,
   "metadata": {},
   "outputs": [
    {
     "ename": "KeyError",
     "evalue": "'Time series (60min)'",
     "output_type": "error",
     "traceback": [
      "\u001b[1;31m---------------------------------------------------------------------------\u001b[0m",
      "\u001b[1;31mKeyError\u001b[0m                                  Traceback (most recent call last)",
      "\u001b[1;32md:\\CODE\\Major\\vis.ipynb Cell 3\u001b[0m in \u001b[0;36m<cell line: 1>\u001b[1;34m()\u001b[0m\n\u001b[1;32m----> <a href='vscode-notebook-cell:/d%3A/CODE/Major/vis.ipynb#W2sZmlsZQ%3D%3D?line=0'>1</a>\u001b[0m df \u001b[39m=\u001b[39m pd\u001b[39m.\u001b[39mDataFrame(data[\u001b[39m'\u001b[39;49m\u001b[39mTime series (60min)\u001b[39;49m\u001b[39m'\u001b[39;49m])\u001b[39m.\u001b[39mT\n",
      "\u001b[1;31mKeyError\u001b[0m: 'Time series (60min)'"
     ]
    }
   ],
   "source": [
    "df = pd.DataFrame(data['Time Series (60min)']).T"
   ]
  },
  {
   "cell_type": "code",
   "execution_count": null,
   "metadata": {},
   "outputs": [
    {
     "ename": "ParserError",
     "evalue": "Unknown string format: 1. Information",
     "output_type": "error",
     "traceback": [
      "\u001b[1;31m---------------------------------------------------------------------------\u001b[0m",
      "\u001b[1;31mTypeError\u001b[0m                                 Traceback (most recent call last)",
      "File \u001b[1;32mc:\\Users\\nav7u\\miniconda3\\envs\\project\\lib\\site-packages\\pandas\\core\\arrays\\datetimes.py:2236\u001b[0m, in \u001b[0;36mobjects_to_datetime64ns\u001b[1;34m(data, dayfirst, yearfirst, utc, errors, require_iso8601, allow_object, allow_mixed)\u001b[0m\n\u001b[0;32m   2235\u001b[0m \u001b[39mtry\u001b[39;00m:\n\u001b[1;32m-> 2236\u001b[0m     values, tz_parsed \u001b[39m=\u001b[39m conversion\u001b[39m.\u001b[39;49mdatetime_to_datetime64(data\u001b[39m.\u001b[39;49mravel(\u001b[39m\"\u001b[39;49m\u001b[39mK\u001b[39;49m\u001b[39m\"\u001b[39;49m))\n\u001b[0;32m   2237\u001b[0m     \u001b[39m# If tzaware, these values represent unix timestamps, so we\u001b[39;00m\n\u001b[0;32m   2238\u001b[0m     \u001b[39m#  return them as i8 to distinguish from wall times\u001b[39;00m\n",
      "File \u001b[1;32mc:\\Users\\nav7u\\miniconda3\\envs\\project\\lib\\site-packages\\pandas\\_libs\\tslibs\\conversion.pyx:360\u001b[0m, in \u001b[0;36mpandas._libs.tslibs.conversion.datetime_to_datetime64\u001b[1;34m()\u001b[0m\n",
      "\u001b[1;31mTypeError\u001b[0m: Unrecognized value type: <class 'str'>",
      "\nDuring handling of the above exception, another exception occurred:\n",
      "\u001b[1;31mParserError\u001b[0m                               Traceback (most recent call last)",
      "\u001b[1;32md:\\CODE\\Major\\vis.ipynb Cell 4\u001b[0m in \u001b[0;36m<cell line: 1>\u001b[1;34m()\u001b[0m\n\u001b[1;32m----> <a href='vscode-notebook-cell:/d%3A/CODE/Major/vis.ipynb#W3sZmlsZQ%3D%3D?line=0'>1</a>\u001b[0m df\u001b[39m.\u001b[39mindex \u001b[39m=\u001b[39m pd\u001b[39m.\u001b[39;49mto_datetime(df\u001b[39m.\u001b[39;49mindex)\n",
      "File \u001b[1;32mc:\\Users\\nav7u\\miniconda3\\envs\\project\\lib\\site-packages\\pandas\\core\\tools\\datetimes.py:1060\u001b[0m, in \u001b[0;36mto_datetime\u001b[1;34m(arg, errors, dayfirst, yearfirst, utc, format, exact, unit, infer_datetime_format, origin, cache)\u001b[0m\n\u001b[0;32m   1058\u001b[0m         result \u001b[39m=\u001b[39m _convert_and_box_cache(arg, cache_array, name\u001b[39m=\u001b[39marg\u001b[39m.\u001b[39mname)\n\u001b[0;32m   1059\u001b[0m     \u001b[39melse\u001b[39;00m:\n\u001b[1;32m-> 1060\u001b[0m         result \u001b[39m=\u001b[39m convert_listlike(arg, \u001b[39mformat\u001b[39;49m, name\u001b[39m=\u001b[39;49marg\u001b[39m.\u001b[39;49mname)\n\u001b[0;32m   1061\u001b[0m \u001b[39melif\u001b[39;00m is_list_like(arg):\n\u001b[0;32m   1062\u001b[0m     \u001b[39mtry\u001b[39;00m:\n",
      "File \u001b[1;32mc:\\Users\\nav7u\\miniconda3\\envs\\project\\lib\\site-packages\\pandas\\core\\tools\\datetimes.py:402\u001b[0m, in \u001b[0;36m_convert_listlike_datetimes\u001b[1;34m(arg, format, name, tz, unit, errors, infer_datetime_format, dayfirst, yearfirst, exact)\u001b[0m\n\u001b[0;32m    400\u001b[0m \u001b[39massert\u001b[39;00m \u001b[39mformat\u001b[39m \u001b[39mis\u001b[39;00m \u001b[39mNone\u001b[39;00m \u001b[39mor\u001b[39;00m infer_datetime_format\n\u001b[0;32m    401\u001b[0m utc \u001b[39m=\u001b[39m tz \u001b[39m==\u001b[39m \u001b[39m\"\u001b[39m\u001b[39mutc\u001b[39m\u001b[39m\"\u001b[39m\n\u001b[1;32m--> 402\u001b[0m result, tz_parsed \u001b[39m=\u001b[39m objects_to_datetime64ns(\n\u001b[0;32m    403\u001b[0m     arg,\n\u001b[0;32m    404\u001b[0m     dayfirst\u001b[39m=\u001b[39;49mdayfirst,\n\u001b[0;32m    405\u001b[0m     yearfirst\u001b[39m=\u001b[39;49myearfirst,\n\u001b[0;32m    406\u001b[0m     utc\u001b[39m=\u001b[39;49mutc,\n\u001b[0;32m    407\u001b[0m     errors\u001b[39m=\u001b[39;49merrors,\n\u001b[0;32m    408\u001b[0m     require_iso8601\u001b[39m=\u001b[39;49mrequire_iso8601,\n\u001b[0;32m    409\u001b[0m     allow_object\u001b[39m=\u001b[39;49m\u001b[39mTrue\u001b[39;49;00m,\n\u001b[0;32m    410\u001b[0m )\n\u001b[0;32m    412\u001b[0m \u001b[39mif\u001b[39;00m tz_parsed \u001b[39mis\u001b[39;00m \u001b[39mnot\u001b[39;00m \u001b[39mNone\u001b[39;00m:\n\u001b[0;32m    413\u001b[0m     \u001b[39m# We can take a shortcut since the datetime64 numpy array\u001b[39;00m\n\u001b[0;32m    414\u001b[0m     \u001b[39m# is in UTC\u001b[39;00m\n\u001b[0;32m    415\u001b[0m     dta \u001b[39m=\u001b[39m DatetimeArray(result, dtype\u001b[39m=\u001b[39mtz_to_dtype(tz_parsed))\n",
      "File \u001b[1;32mc:\\Users\\nav7u\\miniconda3\\envs\\project\\lib\\site-packages\\pandas\\core\\arrays\\datetimes.py:2242\u001b[0m, in \u001b[0;36mobjects_to_datetime64ns\u001b[1;34m(data, dayfirst, yearfirst, utc, errors, require_iso8601, allow_object, allow_mixed)\u001b[0m\n\u001b[0;32m   2240\u001b[0m         \u001b[39mreturn\u001b[39;00m values\u001b[39m.\u001b[39mview(\u001b[39m\"\u001b[39m\u001b[39mi8\u001b[39m\u001b[39m\"\u001b[39m), tz_parsed\n\u001b[0;32m   2241\u001b[0m     \u001b[39mexcept\u001b[39;00m (\u001b[39mValueError\u001b[39;00m, \u001b[39mTypeError\u001b[39;00m):\n\u001b[1;32m-> 2242\u001b[0m         \u001b[39mraise\u001b[39;00m err\n\u001b[0;32m   2244\u001b[0m \u001b[39mif\u001b[39;00m tz_parsed \u001b[39mis\u001b[39;00m \u001b[39mnot\u001b[39;00m \u001b[39mNone\u001b[39;00m:\n\u001b[0;32m   2245\u001b[0m     \u001b[39m# We can take a shortcut since the datetime64 numpy array\u001b[39;00m\n\u001b[0;32m   2246\u001b[0m     \u001b[39m#  is in UTC\u001b[39;00m\n\u001b[0;32m   2247\u001b[0m     \u001b[39m# Return i8 values to denote unix timestamps\u001b[39;00m\n\u001b[0;32m   2248\u001b[0m     \u001b[39mreturn\u001b[39;00m result\u001b[39m.\u001b[39mview(\u001b[39m\"\u001b[39m\u001b[39mi8\u001b[39m\u001b[39m\"\u001b[39m), tz_parsed\n",
      "File \u001b[1;32mc:\\Users\\nav7u\\miniconda3\\envs\\project\\lib\\site-packages\\pandas\\core\\arrays\\datetimes.py:2224\u001b[0m, in \u001b[0;36mobjects_to_datetime64ns\u001b[1;34m(data, dayfirst, yearfirst, utc, errors, require_iso8601, allow_object, allow_mixed)\u001b[0m\n\u001b[0;32m   2222\u001b[0m order: Literal[\u001b[39m\"\u001b[39m\u001b[39mF\u001b[39m\u001b[39m\"\u001b[39m, \u001b[39m\"\u001b[39m\u001b[39mC\u001b[39m\u001b[39m\"\u001b[39m] \u001b[39m=\u001b[39m \u001b[39m\"\u001b[39m\u001b[39mF\u001b[39m\u001b[39m\"\u001b[39m \u001b[39mif\u001b[39;00m flags\u001b[39m.\u001b[39mf_contiguous \u001b[39melse\u001b[39;00m \u001b[39m\"\u001b[39m\u001b[39mC\u001b[39m\u001b[39m\"\u001b[39m\n\u001b[0;32m   2223\u001b[0m \u001b[39mtry\u001b[39;00m:\n\u001b[1;32m-> 2224\u001b[0m     result, tz_parsed \u001b[39m=\u001b[39m tslib\u001b[39m.\u001b[39;49marray_to_datetime(\n\u001b[0;32m   2225\u001b[0m         data\u001b[39m.\u001b[39;49mravel(\u001b[39m\"\u001b[39;49m\u001b[39mK\u001b[39;49m\u001b[39m\"\u001b[39;49m),\n\u001b[0;32m   2226\u001b[0m         errors\u001b[39m=\u001b[39;49merrors,\n\u001b[0;32m   2227\u001b[0m         utc\u001b[39m=\u001b[39;49mutc,\n\u001b[0;32m   2228\u001b[0m         dayfirst\u001b[39m=\u001b[39;49mdayfirst,\n\u001b[0;32m   2229\u001b[0m         yearfirst\u001b[39m=\u001b[39;49myearfirst,\n\u001b[0;32m   2230\u001b[0m         require_iso8601\u001b[39m=\u001b[39;49mrequire_iso8601,\n\u001b[0;32m   2231\u001b[0m         allow_mixed\u001b[39m=\u001b[39;49mallow_mixed,\n\u001b[0;32m   2232\u001b[0m     )\n\u001b[0;32m   2233\u001b[0m     result \u001b[39m=\u001b[39m result\u001b[39m.\u001b[39mreshape(data\u001b[39m.\u001b[39mshape, order\u001b[39m=\u001b[39morder)\n\u001b[0;32m   2234\u001b[0m \u001b[39mexcept\u001b[39;00m \u001b[39mValueError\u001b[39;00m \u001b[39mas\u001b[39;00m err:\n",
      "File \u001b[1;32mc:\\Users\\nav7u\\miniconda3\\envs\\project\\lib\\site-packages\\pandas\\_libs\\tslib.pyx:381\u001b[0m, in \u001b[0;36mpandas._libs.tslib.array_to_datetime\u001b[1;34m()\u001b[0m\n",
      "File \u001b[1;32mc:\\Users\\nav7u\\miniconda3\\envs\\project\\lib\\site-packages\\pandas\\_libs\\tslib.pyx:613\u001b[0m, in \u001b[0;36mpandas._libs.tslib.array_to_datetime\u001b[1;34m()\u001b[0m\n",
      "File \u001b[1;32mc:\\Users\\nav7u\\miniconda3\\envs\\project\\lib\\site-packages\\pandas\\_libs\\tslib.pyx:751\u001b[0m, in \u001b[0;36mpandas._libs.tslib._array_to_datetime_object\u001b[1;34m()\u001b[0m\n",
      "File \u001b[1;32mc:\\Users\\nav7u\\miniconda3\\envs\\project\\lib\\site-packages\\pandas\\_libs\\tslib.pyx:742\u001b[0m, in \u001b[0;36mpandas._libs.tslib._array_to_datetime_object\u001b[1;34m()\u001b[0m\n",
      "File \u001b[1;32mc:\\Users\\nav7u\\miniconda3\\envs\\project\\lib\\site-packages\\pandas\\_libs\\tslibs\\parsing.pyx:281\u001b[0m, in \u001b[0;36mpandas._libs.tslibs.parsing.parse_datetime_string\u001b[1;34m()\u001b[0m\n",
      "File \u001b[1;32mc:\\Users\\nav7u\\miniconda3\\envs\\project\\lib\\site-packages\\dateutil\\parser\\_parser.py:1368\u001b[0m, in \u001b[0;36mparse\u001b[1;34m(timestr, parserinfo, **kwargs)\u001b[0m\n\u001b[0;32m   1366\u001b[0m     \u001b[39mreturn\u001b[39;00m parser(parserinfo)\u001b[39m.\u001b[39mparse(timestr, \u001b[39m*\u001b[39m\u001b[39m*\u001b[39mkwargs)\n\u001b[0;32m   1367\u001b[0m \u001b[39melse\u001b[39;00m:\n\u001b[1;32m-> 1368\u001b[0m     \u001b[39mreturn\u001b[39;00m DEFAULTPARSER\u001b[39m.\u001b[39mparse(timestr, \u001b[39m*\u001b[39m\u001b[39m*\u001b[39mkwargs)\n",
      "File \u001b[1;32mc:\\Users\\nav7u\\miniconda3\\envs\\project\\lib\\site-packages\\dateutil\\parser\\_parser.py:643\u001b[0m, in \u001b[0;36mparser.parse\u001b[1;34m(self, timestr, default, ignoretz, tzinfos, **kwargs)\u001b[0m\n\u001b[0;32m    640\u001b[0m res, skipped_tokens \u001b[39m=\u001b[39m \u001b[39mself\u001b[39m\u001b[39m.\u001b[39m_parse(timestr, \u001b[39m*\u001b[39m\u001b[39m*\u001b[39mkwargs)\n\u001b[0;32m    642\u001b[0m \u001b[39mif\u001b[39;00m res \u001b[39mis\u001b[39;00m \u001b[39mNone\u001b[39;00m:\n\u001b[1;32m--> 643\u001b[0m     \u001b[39mraise\u001b[39;00m ParserError(\u001b[39m\"\u001b[39m\u001b[39mUnknown string format: \u001b[39m\u001b[39m%s\u001b[39;00m\u001b[39m\"\u001b[39m, timestr)\n\u001b[0;32m    645\u001b[0m \u001b[39mif\u001b[39;00m \u001b[39mlen\u001b[39m(res) \u001b[39m==\u001b[39m \u001b[39m0\u001b[39m:\n\u001b[0;32m    646\u001b[0m     \u001b[39mraise\u001b[39;00m ParserError(\u001b[39m\"\u001b[39m\u001b[39mString does not contain a date: \u001b[39m\u001b[39m%s\u001b[39;00m\u001b[39m\"\u001b[39m, timestr)\n",
      "\u001b[1;31mParserError\u001b[0m: Unknown string format: 1. Information"
     ]
    }
   ],
   "source": [
    "df.index = pd.to_datetime(df.index)"
   ]
  },
  {
   "cell_type": "code",
   "execution_count": null,
   "metadata": {},
   "outputs": [],
   "source": [
    "df.sort_index(inplace=True)"
   ]
  },
  {
   "cell_type": "code",
   "execution_count": null,
   "metadata": {},
   "outputs": [
    {
     "name": "stdout",
     "output_type": "stream",
     "text": [
      "<class 'pandas.core.frame.DataFrame'>\n",
      "DatetimeIndex: 100 entries, 2022-09-29 17:00:00 to 2022-10-07 20:00:00\n",
      "Data columns (total 5 columns):\n",
      " #   Column     Non-Null Count  Dtype \n",
      "---  ------     --------------  ----- \n",
      " 0   1. open    100 non-null    object\n",
      " 1   2. high    100 non-null    object\n",
      " 2   3. low     100 non-null    object\n",
      " 3   4. close   100 non-null    object\n",
      " 4   5. volume  100 non-null    object\n",
      "dtypes: object(5)\n",
      "memory usage: 4.7+ KB\n"
     ]
    },
    {
     "ename": "AttributeError",
     "evalue": "'NoneType' object has no attribute 'head'",
     "output_type": "error",
     "traceback": [
      "\u001b[1;31m---------------------------------------------------------------------------\u001b[0m",
      "\u001b[1;31mAttributeError\u001b[0m                            Traceback (most recent call last)",
      "\u001b[1;32md:\\CODE\\Major\\vis.ipynb Cell 6\u001b[0m in \u001b[0;36m<cell line: 1>\u001b[1;34m()\u001b[0m\n\u001b[1;32m----> <a href='vscode-notebook-cell:/d%3A/CODE/Major/vis.ipynb#W5sZmlsZQ%3D%3D?line=0'>1</a>\u001b[0m df\u001b[39m.\u001b[39;49minfo()\u001b[39m.\u001b[39;49mhead(\u001b[39m10\u001b[39m)\n",
      "\u001b[1;31mAttributeError\u001b[0m: 'NoneType' object has no attribute 'head'"
     ]
    }
   ],
   "source": [
    "df.info()"
   ]
  },
  {
   "cell_type": "code",
   "execution_count": null,
   "metadata": {},
   "outputs": [
    {
     "data": {
      "text/html": [
       "<div>\n",
       "<style scoped>\n",
       "    .dataframe tbody tr th:only-of-type {\n",
       "        vertical-align: middle;\n",
       "    }\n",
       "\n",
       "    .dataframe tbody tr th {\n",
       "        vertical-align: top;\n",
       "    }\n",
       "\n",
       "    .dataframe thead th {\n",
       "        text-align: right;\n",
       "    }\n",
       "</style>\n",
       "<table border=\"1\" class=\"dataframe\">\n",
       "  <thead>\n",
       "    <tr style=\"text-align: right;\">\n",
       "      <th></th>\n",
       "      <th>1. open</th>\n",
       "      <th>2. high</th>\n",
       "      <th>3. low</th>\n",
       "      <th>4. close</th>\n",
       "      <th>5. volume</th>\n",
       "    </tr>\n",
       "  </thead>\n",
       "  <tbody>\n",
       "    <tr>\n",
       "      <th>2022-10-07 11:00:00</th>\n",
       "      <td>230.2000</td>\n",
       "      <td>231.4900</td>\n",
       "      <td>228.0100</td>\n",
       "      <td>228.4700</td>\n",
       "      <td>13616795</td>\n",
       "    </tr>\n",
       "    <tr>\n",
       "      <th>2022-10-07 12:00:00</th>\n",
       "      <td>228.4600</td>\n",
       "      <td>229.4799</td>\n",
       "      <td>225.8900</td>\n",
       "      <td>226.1300</td>\n",
       "      <td>10790198</td>\n",
       "    </tr>\n",
       "    <tr>\n",
       "      <th>2022-10-07 13:00:00</th>\n",
       "      <td>226.1350</td>\n",
       "      <td>226.1800</td>\n",
       "      <td>222.0900</td>\n",
       "      <td>223.2952</td>\n",
       "      <td>14774959</td>\n",
       "    </tr>\n",
       "    <tr>\n",
       "      <th>2022-10-07 14:00:00</th>\n",
       "      <td>223.2700</td>\n",
       "      <td>225.0600</td>\n",
       "      <td>222.2300</td>\n",
       "      <td>223.7483</td>\n",
       "      <td>9352256</td>\n",
       "    </tr>\n",
       "    <tr>\n",
       "      <th>2022-10-07 15:00:00</th>\n",
       "      <td>223.7400</td>\n",
       "      <td>224.3200</td>\n",
       "      <td>222.7100</td>\n",
       "      <td>223.6550</td>\n",
       "      <td>6445860</td>\n",
       "    </tr>\n",
       "    <tr>\n",
       "      <th>2022-10-07 16:00:00</th>\n",
       "      <td>223.6300</td>\n",
       "      <td>224.6500</td>\n",
       "      <td>222.0200</td>\n",
       "      <td>223.0800</td>\n",
       "      <td>12239461</td>\n",
       "    </tr>\n",
       "    <tr>\n",
       "      <th>2022-10-07 17:00:00</th>\n",
       "      <td>223.0700</td>\n",
       "      <td>223.1700</td>\n",
       "      <td>222.3300</td>\n",
       "      <td>222.4500</td>\n",
       "      <td>1089437</td>\n",
       "    </tr>\n",
       "    <tr>\n",
       "      <th>2022-10-07 18:00:00</th>\n",
       "      <td>222.4700</td>\n",
       "      <td>223.0600</td>\n",
       "      <td>221.7500</td>\n",
       "      <td>222.1560</td>\n",
       "      <td>227905</td>\n",
       "    </tr>\n",
       "    <tr>\n",
       "      <th>2022-10-07 19:00:00</th>\n",
       "      <td>222.2600</td>\n",
       "      <td>223.0700</td>\n",
       "      <td>222.0000</td>\n",
       "      <td>222.4000</td>\n",
       "      <td>411466</td>\n",
       "    </tr>\n",
       "    <tr>\n",
       "      <th>2022-10-07 20:00:00</th>\n",
       "      <td>222.4000</td>\n",
       "      <td>223.9300</td>\n",
       "      <td>222.2200</td>\n",
       "      <td>223.8000</td>\n",
       "      <td>210863</td>\n",
       "    </tr>\n",
       "  </tbody>\n",
       "</table>\n",
       "</div>"
      ],
      "text/plain": [
       "                      1. open   2. high    3. low  4. close 5. volume\n",
       "2022-10-07 11:00:00  230.2000  231.4900  228.0100  228.4700  13616795\n",
       "2022-10-07 12:00:00  228.4600  229.4799  225.8900  226.1300  10790198\n",
       "2022-10-07 13:00:00  226.1350  226.1800  222.0900  223.2952  14774959\n",
       "2022-10-07 14:00:00  223.2700  225.0600  222.2300  223.7483   9352256\n",
       "2022-10-07 15:00:00  223.7400  224.3200  222.7100  223.6550   6445860\n",
       "2022-10-07 16:00:00  223.6300  224.6500  222.0200  223.0800  12239461\n",
       "2022-10-07 17:00:00  223.0700  223.1700  222.3300  222.4500   1089437\n",
       "2022-10-07 18:00:00  222.4700  223.0600  221.7500  222.1560    227905\n",
       "2022-10-07 19:00:00  222.2600  223.0700  222.0000  222.4000    411466\n",
       "2022-10-07 20:00:00  222.4000  223.9300  222.2200  223.8000    210863"
      ]
     },
     "execution_count": 135,
     "metadata": {},
     "output_type": "execute_result"
    }
   ],
   "source": []
  }
 ],
 "metadata": {
  "kernelspec": {
   "display_name": "Python 3.10.4 ('project')",
   "language": "python",
   "name": "python3"
  },
  "language_info": {
   "codemirror_mode": {
    "name": "ipython",
    "version": 3
   },
   "file_extension": ".py",
   "mimetype": "text/x-python",
   "name": "python",
   "nbconvert_exporter": "python",
   "pygments_lexer": "ipython3",
   "version": "3.10.4"
  },
  "orig_nbformat": 4,
  "vscode": {
   "interpreter": {
    "hash": "d0b3127ef5ab9286c152c502e6d509c05f5ee6b1a2c631b3020c6c3ee9b5412e"
   }
  }
 },
 "nbformat": 4,
 "nbformat_minor": 2
}
